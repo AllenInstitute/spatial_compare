{
 "cells": [
  {
   "cell_type": "code",
   "execution_count": 1,
   "id": "5d973e37-5017-484d-8c54-82b395738e3e",
   "metadata": {},
   "outputs": [
    {
     "name": "stdout",
     "output_type": "stream",
     "text": [
      "input anndata objects have 240 shared genes\n",
      "Saved to: /home/emilyg/spatial_compare/tests/data/1370519421_seg_comp_df_XEN_and_SIS_populated.csv\n"
     ]
    },
    {
     "name": "stderr",
     "output_type": "stream",
     "text": [
      "/home/emilyg/spatial_compare/spatial_compare/spatial_compare.py:134: UserWarning: category subclass is not in both input AnnData objects\n",
      "  warnings.warn(\n"
     ]
    }
   ],
   "source": [
    "from spatial_compare import SpatialCompare\n",
    "import matplotlib.pyplot as plt\n",
    "from scanpy import read_h5ad\n",
    "\n",
    "barcode = '1370519421'\n",
    "seg_name_a = 'XEN'\n",
    "seg_name_b = 'SIS'\n",
    "anndata_a = read_h5ad('/home/emilyg/spatial_compare/tests/data/sc_EG_mini_a.h5ad') \n",
    "anndata_b = read_h5ad('/home/emilyg/spatial_compare/tests/data/sc_EG_mini_b.h5ad')\n",
    "\n",
    "sc = SpatialCompare(anndata_a, anndata_b, data_names=[seg_name_a, seg_name_b], obsm_key='spatial')\n",
    "seg_comp_df = sc.collect_mutual_match_and_doublets(bc=barcode, save=True, reuse_saved=False, savepath='/home/emilyg/spatial_compare/tests/data/', min_transcripts=40)\n"
   ]
  },
  {
   "cell_type": "code",
   "execution_count": 5,
   "id": "4f551458-0478-448f-b798-a2ba17b2ffb7",
   "metadata": {},
   "outputs": [],
   "source": [
    "#Integration tests:\n",
    "#test that all items copied over from anndata objects\n",
    "seg_a_df = seg_comp_df[seg_comp_df['source']==seg_name_a]\n",
    "seg_b_df = seg_comp_df[seg_comp_df['source']==seg_name_b]\n",
    "assert len(anndata_a) == len(seg_a_df)\n",
    "assert len(anndata_b) == len(seg_b_df)\n",
    "\n",
    "#test same number of mutually matched cells\n",
    "high_q_a_cells = seg_a_df[seg_a_df['low_quality_cells']==False]\n",
    "high_q_b_cells = seg_b_df[seg_b_df['low_quality_cells']==False]\n",
    "assert len(high_q_a_cells.iloc[:,4].dropna()) == len(high_q_b_cells.iloc[:,4].dropna()) "
   ]
  },
  {
   "cell_type": "code",
   "execution_count": 34,
   "id": "15a6ce2d-313f-47a2-8399-ff168119ddaf",
   "metadata": {},
   "outputs": [],
   "source": [
    "#test that mutually matched cells are inverse lists of each other\n",
    "#first get indexes of a that have matches to b, then reverse\n",
    "#then check if a's indexes match b's values and vice versa\n"
   ]
  },
  {
   "cell_type": "code",
   "execution_count": null,
   "id": "5dd90c17-7b51-4cc3-8e04-53a3c408616b",
   "metadata": {},
   "outputs": [],
   "source": [
    "#sankey diagram tests (node df, links df, etc)"
   ]
  },
  {
   "cell_type": "code",
   "execution_count": 53,
   "id": "822cf6c2-e383-439c-84c3-914f6a9070a6",
   "metadata": {},
   "outputs": [],
   "source": []
  },
  {
   "cell_type": "code",
   "execution_count": null,
   "id": "53c3d730-aa2a-4b82-bee8-6fc0224b64c2",
   "metadata": {},
   "outputs": [],
   "source": []
  }
 ],
 "metadata": {
  "kernelspec": {
   "display_name": "SpaceHacks-luke",
   "language": "python",
   "name": "python3"
  },
  "language_info": {
   "codemirror_mode": {
    "name": "ipython",
    "version": 3
   },
   "file_extension": ".py",
   "mimetype": "text/x-python",
   "name": "python",
   "nbconvert_exporter": "python",
   "pygments_lexer": "ipython3",
   "version": "3.11.11"
  }
 },
 "nbformat": 4,
 "nbformat_minor": 5
}
